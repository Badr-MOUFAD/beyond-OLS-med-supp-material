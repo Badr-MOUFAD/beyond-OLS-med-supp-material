{
 "cells": [
  {
   "cell_type": "code",
   "execution_count": null,
   "metadata": {},
   "outputs": [],
   "source": [
    "# point to root dir\n",
    "import os\n",
    "\n",
    "os.chdir('../')\n",
    "os.getcwd()"
   ]
  },
  {
   "cell_type": "code",
   "execution_count": null,
   "metadata": {},
   "outputs": [],
   "source": [
    "# imports\n",
    "import numpy as np\n",
    "import pandas as pd\n",
    "from celer import GroupLasso, celer_path"
   ]
  },
  {
   "cell_type": "code",
   "execution_count": null,
   "metadata": {},
   "outputs": [],
   "source": [
    "# response\n",
    "y = pd.Series([0.2, 2.5, 1.1, 3.7])\n",
    "\n",
    "# features\n",
    "X = pd.DataFrame({\n",
    "    'c': [1.2, 2.1, 3.5, 4.7],\n",
    "    'is_good': ['yes', 'no', 'yes', 'no'],\n",
    "    'color': ['red', 'red', 'white', 'blue']\n",
    "})"
   ]
  },
  {
   "cell_type": "code",
   "execution_count": null,
   "metadata": {},
   "outputs": [],
   "source": [
    "from py_scripts.processing import adapt_to_group_lasso\n",
    "\n",
    "X_with_dummies, groups = adapt_to_group_lasso(X)"
   ]
  },
  {
   "cell_type": "code",
   "execution_count": null,
   "metadata": {},
   "outputs": [],
   "source": [
    "n_groups = len(groups)\n",
    "grp_indices = np.append([0], np.cumsum(groups))\n",
    "\n",
    "n_alphas = 100\n",
    "alphas, coefs, _ = celer_path(X_with_dummies.values, y.values.flatten(),\n",
    "                              pb='grouplasso', groups=groups,\n",
    "                              n_alphas=n_alphas, eps=1e-6, prune=1)"
   ]
  },
  {
   "cell_type": "code",
   "execution_count": null,
   "metadata": {},
   "outputs": [],
   "source": [
    "variables_colors: dict[int, str] = {\n",
    "    0: '#636EFA',\n",
    "    1: '#EF553B', 2: '#EF553B',\n",
    "    3: '#00CC96', 4: '#00CC96', 5: '#00CC96'\n",
    "}\n",
    "variables_grp: dict[int, str] = {\n",
    "    0: 'c',\n",
    "    1: 'is_good', 2: 'is_good',\n",
    "    3: 'color', 4: 'color', 5: 'color' \n",
    "}\n",
    "variables_showlegend: dict[int, bool] = {\n",
    "    0: True,\n",
    "    1: True, 2: False,\n",
    "    3: True, 4: False, 5: False\n",
    "}"
   ]
  },
  {
   "cell_type": "code",
   "execution_count": null,
   "metadata": {},
   "outputs": [],
   "source": [
    "import plotly.express as px\n",
    "import plotly.graph_objects as go\n",
    "import plotly.io as pio\n",
    "\n",
    "\n",
    "pio.templates.default = \"plotly_white\"\n",
    "\n",
    "fig = go.Figure(\n",
    "    data=[\n",
    "        go.Scatter(\n",
    "            x=alphas / alphas[0],\n",
    "            y=coefs[i, :],\n",
    "            mode=\"lines\",\n",
    "            marker_color=variables_colors[i],\n",
    "            name=variables_grp[i],\n",
    "            showlegend=variables_showlegend[i]\n",
    "        )\n",
    "    for i in range(6)]\n",
    ")\n",
    "\n",
    "\n",
    "fig.update_layout(\n",
    "    xaxis={\n",
    "        'title': 'alpha / alpha_max',\n",
    "        'type': 'log'\n",
    "    },\n",
    "    yaxis_title=\"coefficients values\",\n",
    "    width=800\n",
    ")\n",
    "fig.show()"
   ]
  },
  {
   "cell_type": "code",
   "execution_count": null,
   "metadata": {},
   "outputs": [],
   "source": [
    "from py_scripts.analytics import score_features\n",
    "\n",
    "vars_scores = score_features(X, y)"
   ]
  },
  {
   "cell_type": "code",
   "execution_count": null,
   "metadata": {},
   "outputs": [],
   "source": [
    "vars_scores"
   ]
  },
  {
   "cell_type": "code",
   "execution_count": null,
   "metadata": {},
   "outputs": [],
   "source": [
    "\n",
    "fig = go.Figure(\n",
    "    data=[\n",
    "        go.Bar(\n",
    "            x=[ele[0] for ele in vars_scores],\n",
    "            y=[ele[1] for ele in vars_scores],\n",
    "            marker_color=['#636EFA', '#EF553B', '#00CC96']\n",
    "        )\n",
    "    ]\n",
    ")\n",
    "\n",
    "fig.update_layout(\n",
    "    xaxis_title='variables',\n",
    "    yaxis={\n",
    "        'title': 'scores', \n",
    "        'type': 'log'\n",
    "    },\n",
    "    width=800\n",
    ")\n",
    "\n",
    "fig.show()"
   ]
  }
 ],
 "metadata": {
  "kernelspec": {
   "display_name": "Python 3.9.7 ('celer-env')",
   "language": "python",
   "name": "python3"
  },
  "language_info": {
   "codemirror_mode": {
    "name": "ipython",
    "version": 3
   },
   "file_extension": ".py",
   "mimetype": "text/x-python",
   "name": "python",
   "nbconvert_exporter": "python",
   "pygments_lexer": "ipython3",
   "version": "3.9.7"
  },
  "orig_nbformat": 4,
  "vscode": {
   "interpreter": {
    "hash": "c7bd9dd2adc0b1fd1227199ec15d368c1542a05de5b9769110a3b603f5c865e9"
   }
  }
 },
 "nbformat": 4,
 "nbformat_minor": 2
}
