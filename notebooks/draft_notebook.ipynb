{
 "cells": [
  {
   "cell_type": "code",
   "execution_count": 1,
   "metadata": {},
   "outputs": [
    {
     "data": {
      "text/plain": [
       "'c:\\\\Users\\\\HP\\\\Desktop\\\\repo-me\\\\supp-material-med-article'"
      ]
     },
     "execution_count": 1,
     "metadata": {},
     "output_type": "execute_result"
    }
   ],
   "source": [
    "import os\n",
    "os.chdir(\"../\")\n",
    "os.getcwd()"
   ]
  },
  {
   "cell_type": "code",
   "execution_count": 2,
   "metadata": {},
   "outputs": [],
   "source": [
    "import pandas as pd\n",
    "import numpy as np\n",
    "from sklearn.linear_model import LinearRegression\n",
    "from sklearn.linear_model import Lasso\n",
    "from celer import Lasso as celer_Lasso\n",
    "from celer import GroupLasso\n",
    "from sklearn.model_selection import train_test_split"
   ]
  },
  {
   "cell_type": "code",
   "execution_count": 3,
   "metadata": {},
   "outputs": [],
   "source": [
    "# load data\n",
    "X = pd.read_csv(\"data/automobile-X.csv\")\n",
    "y = pd.read_csv(\"data/automobile-y.csv\")"
   ]
  },
  {
   "cell_type": "code",
   "execution_count": 4,
   "metadata": {},
   "outputs": [
    {
     "data": {
      "text/plain": [
       "[('make', 2.656087782946684e-06),\n",
       " ('fuel_type', 0.0001519911082952933),\n",
       " ('aspiration', 2.1544346900318823e-05),\n",
       " ('num_of_doors', 2.656087782946684e-06),\n",
       " ('body_style', 0.12328467394420659),\n",
       " ('drive_wheels', 0.0009326033468832199),\n",
       " ('engine_location', 0.0),\n",
       " ('wheel_base', 1.3219411484660288e-06),\n",
       " ('length', 2.1544346900318823e-05),\n",
       " ('width', 0.0010722672220103231),\n",
       " ('height', 0.8697490026177833),\n",
       " ('curb_weight', 2.848035868435799e-05),\n",
       " ('engine_type', 3.274549162877725e-05),\n",
       " ('num_of_cylinders', 7.0548023107186455e-06),\n",
       " ('engine_size', 0.0),\n",
       " ('fuel_system', 1e-06),\n",
       " ('bore', 0.0),\n",
       " ('stroke', 5.336699231206313e-06),\n",
       " ('compression_ratio', 0.0),\n",
       " ('horsepower', 1.3219411484660288e-06),\n",
       " ('peak_rpm', 1.1497569953977357e-06),\n",
       " ('city_mpg', 0.0),\n",
       " ('highway_mpg', 1.1497569953977357e-06)]"
      ]
     },
     "execution_count": 4,
     "metadata": {},
     "output_type": "execute_result"
    }
   ],
   "source": [
    "from py_scripts.analytics import score_features\n",
    "\n",
    "score_features(X, y)"
   ]
  },
  {
   "cell_type": "code",
   "execution_count": 4,
   "metadata": {},
   "outputs": [],
   "source": [
    "from py_scripts.processing import adapt_to_group_lasso\n",
    "\n",
    "X_with_dummies, groups = adapt_to_group_lasso(X)\n",
    "X_train, X_test, y_train, y_test = train_test_split(X_with_dummies, y, test_size=0.2, random_state=0)"
   ]
  },
  {
   "cell_type": "code",
   "execution_count": 5,
   "metadata": {},
   "outputs": [],
   "source": [
    "from py_scripts.analytics import score_features\n",
    "\n",
    "scores = score_features(X_with_dummies.values, y.values.flatten(), groups)"
   ]
  },
  {
   "cell_type": "code",
   "execution_count": 12,
   "metadata": {},
   "outputs": [
    {
     "data": {
      "text/plain": [
       "[('make', 178.9102444394896),\n",
       " ('fuel_type', 10237.901967069776),\n",
       " ('aspiration', 1451.1961520898922),\n",
       " ('num_of_doors', 178.9102444394896),\n",
       " ('body_style', 8304277.928092682),\n",
       " ('drive_wheels', 62818.817144234505),\n",
       " ('engine_location', 0.0),\n",
       " ('wheel_base', 89.04405024757583),\n",
       " ('length', 1451.1961520898922),\n",
       " ('width', 72226.37445419483),\n",
       " ('height', 58585039.11595809),\n",
       " ('curb_weight', 1918.3959079431936),\n",
       " ('engine_type', 2205.6891151000773),\n",
       " ('num_of_cylinders', 475.20131449973417),\n",
       " ('engine_size', 0.0),\n",
       " ('fuel_system', 67.35855854922279),\n",
       " ('bore', 0.0),\n",
       " ('stroke', 359.4723676248027),\n",
       " ('compression_ratio', 0.0),\n",
       " ('horsepower', 89.04405024757583),\n",
       " ('peak_rpm', 77.44597389187686),\n",
       " ('city_mpg', 0.0),\n",
       " ('highway_mpg', 77.44597389187686)]"
      ]
     },
     "execution_count": 12,
     "metadata": {},
     "output_type": "execute_result"
    }
   ],
   "source": [
    "list(zip(X.columns, scores)) "
   ]
  },
  {
   "cell_type": "code",
   "execution_count": 6,
   "metadata": {},
   "outputs": [
    {
     "data": {
      "text/plain": [
       "LinearRegression()"
      ]
     },
     "execution_count": 6,
     "metadata": {},
     "output_type": "execute_result"
    }
   ],
   "source": [
    "regressor = LinearRegression(fit_intercept=True)\n",
    "regressor.fit(X_train.values, y_train.values)"
   ]
  },
  {
   "cell_type": "code",
   "execution_count": 7,
   "metadata": {},
   "outputs": [
    {
     "name": "stdout",
     "output_type": "stream",
     "text": [
      "0.9650540680891913\n",
      "0.9380424317319419\n"
     ]
    },
    {
     "name": "stderr",
     "output_type": "stream",
     "text": [
      "c:\\Users\\HP\\anaconda3\\envs\\celer-env\\lib\\site-packages\\sklearn\\base.py:443: UserWarning: X has feature names, but LinearRegression was fitted without feature names\n",
      "  warnings.warn(\n",
      "c:\\Users\\HP\\anaconda3\\envs\\celer-env\\lib\\site-packages\\sklearn\\base.py:443: UserWarning: X has feature names, but LinearRegression was fitted without feature names\n",
      "  warnings.warn(\n"
     ]
    }
   ],
   "source": [
    "print(regressor.score(X_train, y_train))\n",
    "print(regressor.score(X_test, y_test))"
   ]
  },
  {
   "cell_type": "code",
   "execution_count": 8,
   "metadata": {},
   "outputs": [
    {
     "data": {
      "text/plain": [
       "array([ 2.78204079e+01, -4.80664931e+01,  6.51313793e+02,  1.28034163e+02,\n",
       "        2.50947844e+00,  1.05452488e+02, -5.01225656e+02, -3.10816138e+03,\n",
       "        1.33695706e+02,  5.25665617e+01,  1.72457575e+00,  7.25135693e+00,\n",
       "        1.29035612e+02,  0.00000000e+00,  0.00000000e+00,  5.56299855e+03,\n",
       "        0.00000000e+00,  0.00000000e+00,  0.00000000e+00,  0.00000000e+00,\n",
       "        0.00000000e+00,  0.00000000e+00,  2.49045032e+03, -1.10822334e+03,\n",
       "       -1.16617110e+03,  0.00000000e+00, -1.78387653e+02,  2.82844548e+03,\n",
       "        0.00000000e+00,  0.00000000e+00, -7.50027945e+02,  0.00000000e+00,\n",
       "        0.00000000e+00,  0.00000000e+00,  0.00000000e+00, -5.53597759e+02,\n",
       "        3.18023086e+02,  0.00000000e+00,  0.00000000e+00,  2.83642987e+03,\n",
       "        0.00000000e+00, -5.15270406e+02,  0.00000000e+00,  0.00000000e+00,\n",
       "        0.00000000e+00, -1.55459271e+02,  0.00000000e+00, -1.39507260e+02,\n",
       "        1.75396598e+03,  0.00000000e+00,  0.00000000e+00,  1.40207832e+03,\n",
       "        0.00000000e+00, -1.72720176e+03,  1.48209676e+03,  0.00000000e+00,\n",
       "       -1.30171121e+03, -7.12291936e+02,  0.00000000e+00,  0.00000000e+00,\n",
       "        7.27766579e+02,  0.00000000e+00,  0.00000000e+00,  0.00000000e+00,\n",
       "        0.00000000e+00])"
      ]
     },
     "execution_count": 8,
     "metadata": {},
     "output_type": "execute_result"
    }
   ],
   "source": [
    "alpha_max = np.linalg.norm(X_train.T @ (y_train-y_train.mean()), ord=np.inf) / len(y_train)\n",
    "\n",
    "lasso = celer_Lasso(alpha=alpha_max / 1e5, fit_intercept=True)\n",
    "lasso.fit(X_train, y_train)\n",
    "lasso.coef_"
   ]
  },
  {
   "cell_type": "code",
   "execution_count": 9,
   "metadata": {},
   "outputs": [
    {
     "data": {
      "text/plain": [
       "GroupLasso(alpha=200.0,\n",
       "           groups=[1, 1, 1, 1, 1, 1, 1, 1, 1, 1, 1, 1, 1, 20, 2, 2, 2, 5, 3, 2,\n",
       "                   5, 5, 6])"
      ]
     },
     "execution_count": 9,
     "metadata": {},
     "output_type": "execute_result"
    }
   ],
   "source": [
    "grp_lasso = GroupLasso(groups,\n",
    "                       alpha=200.,\n",
    "                       fit_intercept=True)\n",
    "\n",
    "grp_lasso.fit(X_train, y_train)"
   ]
  },
  {
   "cell_type": "code",
   "execution_count": 10,
   "metadata": {},
   "outputs": [
    {
     "data": {
      "text/plain": [
       "[('wheel_base', 0.0),\n",
       " ('length', -15.537020988823016),\n",
       " ('width', 272.3491928538892),\n",
       " ('height', 88.7431107326245),\n",
       " ('curb_weight', 2.820803244283288),\n",
       " ('engine_size', 101.1569663547268),\n",
       " ('bore', -0.0),\n",
       " ('stroke', -0.0),\n",
       " ('compression_ratio', 128.8332783434283),\n",
       " ('horsepower', 38.550580849869085),\n",
       " ('peak_rpm', 1.8552218086840184),\n",
       " ('city_mpg', 3.1255648427491485),\n",
       " ('highway_mpg', 72.46609260649555),\n",
       " ('make_alfa-romero', 353.3389130163189),\n",
       " ('make_audi', 1115.1161703514197),\n",
       " ('make_bmw', 4244.069449535641),\n",
       " ('make_chevrolet', 268.5781486837945),\n",
       " ('make_dodge', -930.6367822381205),\n",
       " ('make_honda', -1128.0399028340807),\n",
       " ('make_isuzu & mercury', -446.2541725552247),\n",
       " ('make_jaguar', -125.98982680757517),\n",
       " ('make_mazda', -369.56016259822644),\n",
       " ('make_mercedes-benz', 3245.7144724524946),\n",
       " ('make_mitsubishi', -2134.1423564821243),\n",
       " ('make_nissan', -2509.2068644615324),\n",
       " ('make_peugot', -901.5161437355378),\n",
       " ('make_plymouth', -1331.447064001996),\n",
       " ('make_porsche', 2965.0894531730105),\n",
       " ('make_saab', 177.01771652119908),\n",
       " ('make_subaru', -431.0523498522411),\n",
       " ('make_toyota', -1441.4619297658562),\n",
       " ('make_volkswagen', -803.722874941851),\n",
       " ('make_volvo', 184.1061065404878),\n",
       " ('fuel_type_diesel', 0.0),\n",
       " ('fuel_type_gas', -0.0),\n",
       " ('aspiration_std', -0.0),\n",
       " ('aspiration_turbo', 0.0),\n",
       " ('num_of_doors_four', -0.0),\n",
       " ('num_of_doors_two', 0.0),\n",
       " ('body_style_convertible', 186.44692750104943),\n",
       " ('body_style_hardtop', 38.22207859644293),\n",
       " ('body_style_hatchback', -239.06102878789827),\n",
       " ('body_style_sedan', 80.20880507421518),\n",
       " ('body_style_wagon', -65.81678238380923),\n",
       " ('drive_wheels_4wd', 0.0),\n",
       " ('drive_wheels_fwd', -0.0),\n",
       " ('drive_wheels_rwd', 0.0),\n",
       " ('engine_location_front', -0.0),\n",
       " ('engine_location_rear', 0.0),\n",
       " ('engine_type_dohc', -0.0),\n",
       " ('engine_type_l', -0.0),\n",
       " ('engine_type_ohc', 0.0),\n",
       " ('engine_type_ohcf', 0.0),\n",
       " ('engine_type_ohcv', -0.0),\n",
       " ('num_of_cylinders_eight', 0.0),\n",
       " ('num_of_cylinders_five', 0.0),\n",
       " ('num_of_cylinders_four', -0.0),\n",
       " ('num_of_cylinders_six', -0.0),\n",
       " ('num_of_cylinders_three & twelve', 0.0),\n",
       " ('fuel_system_1bbl', -0.0),\n",
       " ('fuel_system_2bbl', 0.0),\n",
       " ('fuel_system_idi', 0.0),\n",
       " ('fuel_system_mfi & spfi', -0.0),\n",
       " ('fuel_system_mpfi', 0.0),\n",
       " ('fuel_system_spdi', -0.0)]"
      ]
     },
     "execution_count": 10,
     "metadata": {},
     "output_type": "execute_result"
    }
   ],
   "source": [
    "list(zip(X_train.columns, grp_lasso.coef_))"
   ]
  },
  {
   "cell_type": "code",
   "execution_count": 11,
   "metadata": {},
   "outputs": [
    {
     "name": "stdout",
     "output_type": "stream",
     "text": [
      "0.9152893822168766\n",
      "0.9137846292562121\n"
     ]
    }
   ],
   "source": [
    "print(grp_lasso.score(X_train, y_train))\n",
    "print(grp_lasso.score(X_test, y_test))"
   ]
  },
  {
   "cell_type": "code",
   "execution_count": 12,
   "metadata": {},
   "outputs": [
    {
     "data": {
      "text/plain": [
       "Lasso(alpha=0.1)"
      ]
     },
     "execution_count": 12,
     "metadata": {},
     "output_type": "execute_result"
    }
   ],
   "source": [
    "lasso = celer_Lasso(alpha=0.1, fit_intercept=True)\n",
    "lasso.fit(X_train, y_train)"
   ]
  },
  {
   "cell_type": "code",
   "execution_count": 13,
   "metadata": {},
   "outputs": [
    {
     "data": {
      "text/plain": [
       "[('wheel_base', 252.69009882476112),\n",
       " ('length', -99.01548404207092),\n",
       " ('width', 691.963445933772),\n",
       " ('height', -273.3679282408874),\n",
       " ('curb_weight', 5.747697522412496),\n",
       " ('engine_size', 95.13299214621337),\n",
       " ('bore', -3409.633050880251),\n",
       " ('stroke', -1688.949825289613),\n",
       " ('compression_ratio', -877.5831965301438),\n",
       " ('horsepower', 4.739970145725739),\n",
       " ('peak_rpm', 2.276541077987653),\n",
       " ('city_mpg', -63.54106720613614),\n",
       " ('highway_mpg', 227.16135652683704),\n",
       " ('make_alfa-romero', 2733.391746595304),\n",
       " ('make_audi', 4138.93858882759),\n",
       " ('make_bmw', 7970.0761436356115),\n",
       " ('make_chevrolet', -2659.5026304686285),\n",
       " ('make_dodge', -3018.8178842455254),\n",
       " ('make_honda', 357.71013440337777),\n",
       " ('make_isuzu & mercury', 344.8794812453826),\n",
       " ('make_jaguar', 0.0),\n",
       " ('make_mazda', -504.7275478541984),\n",
       " ('make_mercedes-benz', 5152.675960666794),\n",
       " ('make_mitsubishi', -3793.9500559763314),\n",
       " ('make_nissan', -832.6283343952479),\n",
       " ('make_peugot', -2945.7611527267773),\n",
       " ('make_plymouth', -3301.3406043759114),\n",
       " ('make_porsche', 5833.841416061065),\n",
       " ('make_saab', 2714.9479495475225),\n",
       " ('make_subaru', 0.0),\n",
       " ('make_toyota', -1277.68100994613),\n",
       " ('make_volkswagen', -260.7232866873737),\n",
       " ('make_volvo', 438.3085905685943),\n",
       " ('fuel_type_diesel', 12306.78926784407),\n",
       " ('fuel_type_gas', 0.0),\n",
       " ('aspiration_std', -1149.8445745424333),\n",
       " ('aspiration_turbo', 1391.276915573144),\n",
       " ('num_of_doors_four', 24.614488393125438),\n",
       " ('num_of_doors_two', -124.5944392958737),\n",
       " ('body_style_convertible', 3002.1186356395756),\n",
       " ('body_style_hardtop', 462.10462400532685),\n",
       " ('body_style_hatchback', -665.9230329178553),\n",
       " ('body_style_sedan', -266.8481491012109),\n",
       " ('body_style_wagon', 0.0),\n",
       " ('drive_wheels_4wd', 145.8381638347199),\n",
       " ('drive_wheels_fwd', -222.85041559886275),\n",
       " ('drive_wheels_rwd', 0.0),\n",
       " ('engine_location_front', -8680.226569263617),\n",
       " ('engine_location_rear', 1.2299850027375214e-10),\n",
       " ('engine_type_dohc', -0.8082828767861363),\n",
       " ('engine_type_l', 0.0),\n",
       " ('engine_type_ohc', 1353.3138436692145),\n",
       " ('engine_type_ohcf', 859.2894270848502),\n",
       " ('engine_type_ohcv', -2084.5473505242344),\n",
       " ('num_of_cylinders_eight', 1983.7282274519837),\n",
       " ('num_of_cylinders_five', -3816.620463950835),\n",
       " ('num_of_cylinders_four', -83.59627157823832),\n",
       " ('num_of_cylinders_six', 0.0),\n",
       " ('num_of_cylinders_three & twelve', 6382.232147279732),\n",
       " ('fuel_system_1bbl', -565.0983380055491),\n",
       " ('fuel_system_2bbl', 2200.832867696501),\n",
       " ('fuel_system_idi', 0.0),\n",
       " ('fuel_system_mfi & spfi', -324.5588793182251),\n",
       " ('fuel_system_mpfi', 771.6736094575838),\n",
       " ('fuel_system_spdi', 0.0)]"
      ]
     },
     "execution_count": 13,
     "metadata": {},
     "output_type": "execute_result"
    }
   ],
   "source": [
    "list(zip(X_train.columns, lasso.coef_))"
   ]
  },
  {
   "cell_type": "code",
   "execution_count": 14,
   "metadata": {},
   "outputs": [
    {
     "data": {
      "text/plain": [
       "LinearRegression()"
      ]
     },
     "execution_count": 14,
     "metadata": {},
     "output_type": "execute_result"
    }
   ],
   "source": [
    "ols = LinearRegression(fit_intercept=True)\n",
    "ols.fit(X_train, y_train)"
   ]
  },
  {
   "cell_type": "code",
   "execution_count": 15,
   "metadata": {},
   "outputs": [
    {
     "data": {
      "text/plain": [
       "[('wheel_base', 254.21952665262177),\n",
       " ('length', -99.57127485390238),\n",
       " ('width', 695.3631837154733),\n",
       " ('height', -276.88010885366293),\n",
       " ('curb_weight', 5.771506300546939),\n",
       " ('engine_size', 95.15118306538164),\n",
       " ('bore', -3409.0971270199443),\n",
       " ('stroke', -1684.0098798865401),\n",
       " ('compression_ratio', -910.7311082319077),\n",
       " ('horsepower', 3.881102482366714),\n",
       " ('peak_rpm', 2.2917825626998365),\n",
       " ('city_mpg', -62.64172832345548),\n",
       " ('highway_mpg', 227.42605287143533),\n",
       " ('make_alfa-romero', 2317.6824942295393),\n",
       " ('make_audi', 3765.7180196072736),\n",
       " ('make_bmw', 7522.833778411391),\n",
       " ('make_chevrolet', -3136.454023058797),\n",
       " ('make_dodge', -3475.7586845496676),\n",
       " ('make_honda', -66.8707013016728),\n",
       " ('make_isuzu & mercury', -78.58481606403471),\n",
       " ('make_jaguar', -493.61444173248384),\n",
       " ('make_mazda', -955.5355151921206),\n",
       " ('make_mercedes-benz', 4783.683334684087),\n",
       " ('make_mitsubishi', -4253.962158643096),\n",
       " ('make_nissan', -1270.6596264344364),\n",
       " ('make_peugot', -4366.508510687567),\n",
       " ('make_plymouth', -3759.964136630715),\n",
       " ('make_porsche', 5423.761849916494),\n",
       " ('make_saab', 2319.150305589828),\n",
       " ('make_subaru', -1864.3859784619622),\n",
       " ('make_toyota', -1721.3558227244205),\n",
       " ('make_volkswagen', -689.9055765566745),\n",
       " ('make_volvo', 0.7302095990474129),\n",
       " ('fuel_type_diesel', 3851.823747334735),\n",
       " ('fuel_type_gas', -3851.823747334752),\n",
       " ('aspiration_std', -1273.6234248486355),\n",
       " ('aspiration_turbo', 1273.6234248486371),\n",
       " ('num_of_doors_four', 76.3832342205281),\n",
       " ('num_of_doors_two', -76.38323422046724),\n",
       " ('body_style_convertible', 2490.417216938351),\n",
       " ('body_style_hardtop', -33.15512842924757),\n",
       " ('body_style_hatchback', -1175.4630408372782),\n",
       " ('body_style_sedan', -777.8462400440402),\n",
       " ('body_style_wagon', -503.95280762765117),\n",
       " ('drive_wheels_4wd', 168.11987437038363),\n",
       " ('drive_wheels_fwd', -197.55381499597075),\n",
       " ('drive_wheels_rwd', 29.433940625629134),\n",
       " ('engine_location_front', -3650.90529380537),\n",
       " ('engine_location_rear', 3650.9052938053655),\n",
       " ('engine_type_dohc', -491.88877701791745),\n",
       " ('engine_type_l', 437.8870726040375),\n",
       " ('engine_type_ohc', 858.0936720353233),\n",
       " ('engine_type_ohcf', 1786.5193153433963),\n",
       " ('engine_type_ohcv', -2590.6112829647955),\n",
       " ('num_of_cylinders_eight', 1230.128432173343),\n",
       " ('num_of_cylinders_five', -4602.697835497234),\n",
       " ('num_of_cylinders_four', -774.2134245142971),\n",
       " ('num_of_cylinders_six', -657.6127554533833),\n",
       " ('num_of_cylinders_three & twelve', 4804.3955832916145),\n",
       " ('fuel_system_1bbl', -1764.0313933614905),\n",
       " ('fuel_system_2bbl', 1030.1535623883822),\n",
       " ('fuel_system_idi', 3851.823747334726),\n",
       " ('fuel_system_mfi & spfi', -1525.3479919206006),\n",
       " ('fuel_system_mpfi', -396.91867743178796),\n",
       " ('fuel_system_spdi', -1195.6792470092212)]"
      ]
     },
     "execution_count": 15,
     "metadata": {},
     "output_type": "execute_result"
    }
   ],
   "source": [
    "list(zip(X_train.columns, ols.coef_.flatten()))"
   ]
  },
  {
   "cell_type": "code",
   "execution_count": 16,
   "metadata": {},
   "outputs": [
    {
     "data": {
      "text/html": [
       "<div>\n",
       "<style scoped>\n",
       "    .dataframe tbody tr th:only-of-type {\n",
       "        vertical-align: middle;\n",
       "    }\n",
       "\n",
       "    .dataframe tbody tr th {\n",
       "        vertical-align: top;\n",
       "    }\n",
       "\n",
       "    .dataframe thead th {\n",
       "        text-align: right;\n",
       "    }\n",
       "</style>\n",
       "<table border=\"1\" class=\"dataframe\">\n",
       "  <thead>\n",
       "    <tr style=\"text-align: right;\">\n",
       "      <th></th>\n",
       "      <th>make</th>\n",
       "      <th>fuel_type</th>\n",
       "      <th>aspiration</th>\n",
       "      <th>num_of_doors</th>\n",
       "      <th>body_style</th>\n",
       "      <th>drive_wheels</th>\n",
       "      <th>engine_location</th>\n",
       "      <th>wheel_base</th>\n",
       "      <th>length</th>\n",
       "      <th>width</th>\n",
       "      <th>...</th>\n",
       "      <th>num_of_cylinders</th>\n",
       "      <th>engine_size</th>\n",
       "      <th>fuel_system</th>\n",
       "      <th>bore</th>\n",
       "      <th>stroke</th>\n",
       "      <th>compression_ratio</th>\n",
       "      <th>horsepower</th>\n",
       "      <th>peak_rpm</th>\n",
       "      <th>city_mpg</th>\n",
       "      <th>highway_mpg</th>\n",
       "    </tr>\n",
       "  </thead>\n",
       "  <tbody>\n",
       "  </tbody>\n",
       "</table>\n",
       "<p>0 rows × 23 columns</p>\n",
       "</div>"
      ],
      "text/plain": [
       "Empty DataFrame\n",
       "Columns: [make, fuel_type, aspiration, num_of_doors, body_style, drive_wheels, engine_location, wheel_base, length, width, height, curb_weight, engine_type, num_of_cylinders, engine_size, fuel_system, bore, stroke, compression_ratio, horsepower, peak_rpm, city_mpg, highway_mpg]\n",
       "Index: []\n",
       "\n",
       "[0 rows x 23 columns]"
      ]
     },
     "execution_count": 16,
     "metadata": {},
     "output_type": "execute_result"
    }
   ],
   "source": [
    "X.query('make == \"mercury\"')"
   ]
  }
 ],
 "metadata": {
  "kernelspec": {
   "display_name": "Python 3.9.7 ('celer-env')",
   "language": "python",
   "name": "python3"
  },
  "language_info": {
   "codemirror_mode": {
    "name": "ipython",
    "version": 3
   },
   "file_extension": ".py",
   "mimetype": "text/x-python",
   "name": "python",
   "nbconvert_exporter": "python",
   "pygments_lexer": "ipython3",
   "version": "3.9.7"
  },
  "orig_nbformat": 4,
  "vscode": {
   "interpreter": {
    "hash": "c7bd9dd2adc0b1fd1227199ec15d368c1542a05de5b9769110a3b603f5c865e9"
   }
  }
 },
 "nbformat": 4,
 "nbformat_minor": 2
}
