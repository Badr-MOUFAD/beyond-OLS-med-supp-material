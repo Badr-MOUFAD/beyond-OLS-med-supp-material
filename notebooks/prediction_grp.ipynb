{
 "cells": [
  {
   "cell_type": "code",
   "execution_count": null,
   "metadata": {},
   "outputs": [],
   "source": [
    "# point to root dir\n",
    "import os\n",
    "\n",
    "os.chdir('../')\n",
    "os.getcwd()"
   ]
  },
  {
   "cell_type": "code",
   "execution_count": null,
   "metadata": {},
   "outputs": [],
   "source": [
    "# imports\n",
    "import numpy as np\n",
    "import pandas as pd\n",
    "from celer import GroupLasso, GroupLassoCV\n",
    "from sklearn.model_selection import train_test_split\n",
    "\n",
    "from py_scripts.processing import adapt_to_group_lasso"
   ]
  },
  {
   "cell_type": "code",
   "execution_count": null,
   "metadata": {},
   "outputs": [],
   "source": [
    "# load data\n",
    "X = pd.read_csv(\"data/automobile-X.csv\")\n",
    "y = pd.read_csv(\"data/automobile-y.csv\")"
   ]
  },
  {
   "cell_type": "code",
   "execution_count": null,
   "metadata": {},
   "outputs": [],
   "source": [
    "# pre processing\n",
    "X_dummies, groups_sizes = adapt_to_group_lasso(X)\n",
    "\n",
    "(X_dummies_train,\n",
    " X_dummies_test, \n",
    " y_train, \n",
    " y_test\n",
    " ) = train_test_split(X_dummies, y, test_size=0.2, random_state=0)\n"
   ]
  },
  {
   "cell_type": "code",
   "execution_count": null,
   "metadata": {},
   "outputs": [],
   "source": [
    "# init and fit group lasso on train data\n",
    "grp_lasso = GroupLasso(\n",
    "    groups=groups_sizes,\n",
    "    alpha=1.\n",
    ")\n",
    "\n",
    "grp_lasso.fit(X_dummies_train.values, y_train.values)"
   ]
  },
  {
   "cell_type": "code",
   "execution_count": null,
   "metadata": {},
   "outputs": [],
   "source": [
    "# score model on test data\n",
    "grp_lasso.score(X_dummies_test, y_test)"
   ]
  },
  {
   "cell_type": "code",
   "execution_count": null,
   "metadata": {},
   "outputs": [],
   "source": [
    "# cross validate alpha for to get the best group lasso\n",
    "grp_lasso_cv = GroupLassoCV(\n",
    "    groups=groups_sizes,\n",
    "    cv=5,\n",
    "    eps=1e-4,\n",
    "    n_alphas=100\n",
    ")\n",
    "\n",
    "grp_lasso_cv.fit(X_dummies.values, y.values)"
   ]
  },
  {
   "cell_type": "code",
   "execution_count": null,
   "metadata": {},
   "outputs": [],
   "source": [
    "# best alpha\n",
    "grp_lasso_cv.alpha_"
   ]
  },
  {
   "cell_type": "code",
   "execution_count": null,
   "metadata": {},
   "outputs": [],
   "source": [
    "# score model with best alpha\n",
    "grp_lasso_cv.score(X_dummies.values, y.values)"
   ]
  }
 ],
 "metadata": {
  "kernelspec": {
   "display_name": "Python 3.9.7 ('celer-env')",
   "language": "python",
   "name": "python3"
  },
  "language_info": {
   "codemirror_mode": {
    "name": "ipython",
    "version": 3
   },
   "file_extension": ".py",
   "mimetype": "text/x-python",
   "name": "python",
   "nbconvert_exporter": "python",
   "pygments_lexer": "ipython3",
   "version": "3.9.7"
  },
  "orig_nbformat": 4,
  "vscode": {
   "interpreter": {
    "hash": "c7bd9dd2adc0b1fd1227199ec15d368c1542a05de5b9769110a3b603f5c865e9"
   }
  }
 },
 "nbformat": 4,
 "nbformat_minor": 2
}
