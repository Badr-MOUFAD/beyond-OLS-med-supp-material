{
 "cells": [
  {
   "cell_type": "code",
   "execution_count": 1,
   "metadata": {},
   "outputs": [
    {
     "data": {
      "text/plain": [
       "'c:\\\\Users\\\\HP\\\\Desktop\\\\repo-me\\\\supp-material-med-article'"
      ]
     },
     "execution_count": 1,
     "metadata": {},
     "output_type": "execute_result"
    }
   ],
   "source": [
    "# point to root dir\n",
    "import os\n",
    "\n",
    "os.chdir('../')\n",
    "os.getcwd()"
   ]
  },
  {
   "cell_type": "code",
   "execution_count": 2,
   "metadata": {},
   "outputs": [],
   "source": [
    "# imports\n",
    "import numpy as np\n",
    "import pandas as pd\n",
    "from celer import GroupLasso, GroupLassoCV\n",
    "from sklearn.model_selection import train_test_split\n",
    "\n",
    "from py_scripts.processing import adapt_to_group_lasso"
   ]
  },
  {
   "cell_type": "code",
   "execution_count": 3,
   "metadata": {},
   "outputs": [],
   "source": [
    "# load data\n",
    "X = pd.read_csv(\"data/automobile-X.csv\")\n",
    "y = pd.read_csv(\"data/automobile-y.csv\")"
   ]
  },
  {
   "cell_type": "code",
   "execution_count": 4,
   "metadata": {},
   "outputs": [],
   "source": [
    "# pre processing\n",
    "X_dummies, groups_sizes = adapt_to_group_lasso(X)\n",
    "\n",
    "(X_dummies_train,\n",
    " X_dummies_test, \n",
    " y_train, \n",
    " y_test\n",
    " ) = train_test_split(X_dummies, y, test_size=0.2, random_state=0)\n"
   ]
  },
  {
   "cell_type": "code",
   "execution_count": 5,
   "metadata": {},
   "outputs": [
    {
     "data": {
      "text/plain": [
       "GroupLasso(groups=[1, 1, 1, 1, 1, 1, 1, 1, 1, 1, 1, 1, 1, 20, 2, 2, 2, 5, 3, 2,\n",
       "                   5, 5, 6])"
      ]
     },
     "execution_count": 5,
     "metadata": {},
     "output_type": "execute_result"
    }
   ],
   "source": [
    "# init and fit group lasso on train data\n",
    "grp_lasso = GroupLasso(\n",
    "    groups=groups_sizes,\n",
    "    alpha=1.\n",
    ")\n",
    "\n",
    "grp_lasso.fit(X_dummies_train.values, y_train.values)"
   ]
  },
  {
   "cell_type": "code",
   "execution_count": 6,
   "metadata": {},
   "outputs": [
    {
     "name": "stderr",
     "output_type": "stream",
     "text": [
      "c:\\Users\\HP\\anaconda3\\envs\\celer-env\\lib\\site-packages\\sklearn\\base.py:443: UserWarning: X has feature names, but GroupLasso was fitted without feature names\n",
      "  warnings.warn(\n"
     ]
    },
    {
     "data": {
      "text/plain": [
       "0.937700560276168"
      ]
     },
     "execution_count": 6,
     "metadata": {},
     "output_type": "execute_result"
    }
   ],
   "source": [
    "# score model on test data\n",
    "grp_lasso.score(X_dummies_test, y_test)"
   ]
  },
  {
   "cell_type": "code",
   "execution_count": 7,
   "metadata": {},
   "outputs": [
    {
     "name": "stderr",
     "output_type": "stream",
     "text": [
      "c:\\Users\\HP\\anaconda3\\envs\\celer-env\\lib\\site-packages\\sklearn\\linear_model\\_coordinate_descent.py:1571: DataConversionWarning: A column-vector y was passed when a 1d array was expected. Please change the shape of y to (n_samples, ), for example using ravel().\n",
      "  y = column_or_1d(y, warn=True)\n"
     ]
    },
    {
     "data": {
      "text/plain": [
       "GroupLassoCV(cv=5, eps=0.0001,\n",
       "             groups=[1, 1, 1, 1, 1, 1, 1, 1, 1, 1, 1, 1, 1, 20, 2, 2, 2, 5, 3,\n",
       "                     2, 5, 5, 6])"
      ]
     },
     "execution_count": 7,
     "metadata": {},
     "output_type": "execute_result"
    }
   ],
   "source": [
    "# cross validate alpha for to get the best group lasso\n",
    "grp_lasso_cv = GroupLassoCV(\n",
    "    groups=groups_sizes,\n",
    "    cv=5,\n",
    "    eps=1e-4,\n",
    "    n_alphas=100\n",
    ")\n",
    "\n",
    "grp_lasso_cv.fit(X_dummies.values, y.values)"
   ]
  },
  {
   "cell_type": "code",
   "execution_count": 8,
   "metadata": {},
   "outputs": [
    {
     "data": {
      "text/plain": [
       "3977.3087235622384"
      ]
     },
     "execution_count": 8,
     "metadata": {},
     "output_type": "execute_result"
    }
   ],
   "source": [
    "# best alpha\n",
    "grp_lasso_cv.alpha_"
   ]
  },
  {
   "cell_type": "code",
   "execution_count": 9,
   "metadata": {},
   "outputs": [
    {
     "data": {
      "text/plain": [
       "0.8251342643659574"
      ]
     },
     "execution_count": 9,
     "metadata": {},
     "output_type": "execute_result"
    }
   ],
   "source": [
    "# score model with best alpha\n",
    "grp_lasso_cv.score(X_dummies.values, y.values)"
   ]
  }
 ],
 "metadata": {
  "kernelspec": {
   "display_name": "Python 3.9.7 ('celer-env')",
   "language": "python",
   "name": "python3"
  },
  "language_info": {
   "codemirror_mode": {
    "name": "ipython",
    "version": 3
   },
   "file_extension": ".py",
   "mimetype": "text/x-python",
   "name": "python",
   "nbconvert_exporter": "python",
   "pygments_lexer": "ipython3",
   "version": "3.9.7"
  },
  "orig_nbformat": 4,
  "vscode": {
   "interpreter": {
    "hash": "c7bd9dd2adc0b1fd1227199ec15d368c1542a05de5b9769110a3b603f5c865e9"
   }
  }
 },
 "nbformat": 4,
 "nbformat_minor": 2
}
