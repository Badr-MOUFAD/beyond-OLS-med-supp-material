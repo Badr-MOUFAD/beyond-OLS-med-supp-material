{
 "cells": [
  {
   "cell_type": "code",
   "execution_count": null,
   "metadata": {},
   "outputs": [],
   "source": [
    "# point to root dir\n",
    "import os\n",
    "\n",
    "os.chdir(\"../\")\n",
    "os.getcwd()"
   ]
  },
  {
   "cell_type": "code",
   "execution_count": null,
   "metadata": {},
   "outputs": [],
   "source": [
    "# imports\n",
    "import pandas as pd\n",
    "import plotly.express as px"
   ]
  },
  {
   "cell_type": "code",
   "execution_count": null,
   "metadata": {},
   "outputs": [],
   "source": [
    "# load data\n",
    "X = pd.read_csv(\"data/automobile-X.csv\")\n",
    "y = pd.read_csv(\"data/automobile-y.csv\")\n",
    "\n",
    "df = pd.concat((y, X), axis=1)"
   ]
  },
  {
   "cell_type": "code",
   "execution_count": null,
   "metadata": {},
   "outputs": [],
   "source": [
    "df.head()"
   ]
  },
  {
   "cell_type": "code",
   "execution_count": null,
   "metadata": {},
   "outputs": [],
   "source": [
    "df.info()"
   ]
  },
  {
   "cell_type": "code",
   "execution_count": null,
   "metadata": {},
   "outputs": [],
   "source": [
    "fig = px.box(df, x=\"price\")\n",
    "\n",
    "fig.show()"
   ]
  },
  {
   "cell_type": "code",
   "execution_count": null,
   "metadata": {},
   "outputs": [],
   "source": [
    "from py_scripts.visual import plot_categories\n",
    "\n",
    "categories_names = df.select_dtypes(include=\"object\").columns\n",
    "plot_categories(df, col_names=categories_names, height=1200)"
   ]
  },
  {
   "cell_type": "code",
   "execution_count": null,
   "metadata": {},
   "outputs": [],
   "source": [
    "# merge classes with few occurrences\n",
    "from typing import Dict, List\n",
    "\n",
    "dict_categories_classes: Dict[str, List] = {\n",
    "    'make': ['isuzu', 'mercury'],\n",
    "    'num_of_cylinders': ['three', 'twelve'],\n",
    "    'fuel_system': ['mfi', 'spfi']\n",
    "}\n",
    "\n",
    "for category, classes in dict_categories_classes.items():\n",
    "    indices = X[X[category].isin(classes)].index\n",
    "    X.loc[indices, category] = \" & \".join(classes)"
   ]
  },
  {
   "cell_type": "code",
   "execution_count": null,
   "metadata": {},
   "outputs": [],
   "source": [
    "fig = px.scatter_matrix(df.select_dtypes(exclude=\"object\"), )\n",
    "\n",
    "fig.update_traces(diagonal_visible=False, showlowerhalf=False)\n",
    "fig.update_layout(\n",
    "    height=1200\n",
    ")\n",
    "fig.show()"
   ]
  },
  {
   "cell_type": "code",
   "execution_count": null,
   "metadata": {},
   "outputs": [],
   "source": [
    "# save new X\n",
    "X.to_csv('data/automobile-X.csv', index=False)"
   ]
  }
 ],
 "metadata": {
  "kernelspec": {
   "display_name": "Python 3.8.5 ('base')",
   "language": "python",
   "name": "python3"
  },
  "language_info": {
   "codemirror_mode": {
    "name": "ipython",
    "version": 3
   },
   "file_extension": ".py",
   "mimetype": "text/x-python",
   "name": "python",
   "nbconvert_exporter": "python",
   "pygments_lexer": "ipython3",
   "version": "3.8.5"
  },
  "orig_nbformat": 4,
  "vscode": {
   "interpreter": {
    "hash": "dc07d24e2f18896857f0b2a651fe84ba40ce7b297e58d8804a308c8039f752a6"
   }
  }
 },
 "nbformat": 4,
 "nbformat_minor": 2
}
