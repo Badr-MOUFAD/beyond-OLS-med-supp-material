{
 "cells": [
  {
   "cell_type": "code",
   "execution_count": null,
   "metadata": {},
   "outputs": [],
   "source": [
    "# point to root dir\n",
    "import os\n",
    "\n",
    "os.chdir('../')\n",
    "os.getcwd()"
   ]
  },
  {
   "cell_type": "code",
   "execution_count": null,
   "metadata": {},
   "outputs": [],
   "source": [
    "# imports\n",
    "import numpy as np\n",
    "import pandas as pd\n",
    "from celer import GroupLasso\n",
    "\n",
    "from py_scripts.processing import adapt_to_group_lasso\n",
    "from py_scripts.analytics import score_features"
   ]
  },
  {
   "cell_type": "code",
   "execution_count": null,
   "metadata": {},
   "outputs": [],
   "source": [
    "# load data\n",
    "X = pd.read_csv(\"data/automobile-X.csv\")\n",
    "y = pd.read_csv(\"data/automobile-y.csv\")"
   ]
  },
  {
   "cell_type": "code",
   "execution_count": null,
   "metadata": {},
   "outputs": [],
   "source": [
    "# fit group lasso\n",
    "\n",
    "# pre processing\n",
    "X_dummies, groups_sizes = adapt_to_group_lasso(X)\n",
    "\n",
    "# init and fit\n",
    "grp_lasso = GroupLasso(\n",
    "    groups=groups_sizes,\n",
    "    alpha=1.\n",
    ")\n",
    "\n",
    "grp_lasso.fit(X_dummies.values, y.values)"
   ]
  },
  {
   "cell_type": "code",
   "execution_count": null,
   "metadata": {},
   "outputs": [],
   "source": [
    "# inspect solution\n",
    "list(zip(X_dummies.columns, grp_lasso.coef_))"
   ]
  },
  {
   "cell_type": "code",
   "execution_count": null,
   "metadata": {},
   "outputs": [],
   "source": [
    "# score variables and sort\n",
    "scores = score_features(X, y)\n",
    "\n",
    "sorted_scores = sorted(scores, \n",
    "                       key=lambda item: item[1], \n",
    "                       reverse=True)"
   ]
  },
  {
   "cell_type": "code",
   "execution_count": null,
   "metadata": {},
   "outputs": [],
   "source": [
    "# bar plot of scores\n",
    "import plotly.graph_objects as go\n",
    "from operator import itemgetter\n",
    "\n",
    "fig = go.Figure(data=[\n",
    "    go.Bar(\n",
    "        x=[s[0] for s in sorted_scores],\n",
    "        y=[s[1] for s in sorted_scores]\n",
    "    )\n",
    "])\n",
    "\n",
    "fig.update_layout(\n",
    "    title=\"Scores of variables\",\n",
    "    yaxis={\n",
    "        'type': 'log',\n",
    "        'title': 'score'\n",
    "    }\n",
    ")\n",
    "\n",
    "fig.show()"
   ]
  },
  {
   "cell_type": "code",
   "execution_count": null,
   "metadata": {},
   "outputs": [],
   "source": [
    "# select top K features\n",
    "K = 5\n",
    "\n",
    "print(sorted_scores[:K])"
   ]
  }
 ],
 "metadata": {
  "kernelspec": {
   "display_name": "Python 3.9.7 ('celer-env')",
   "language": "python",
   "name": "python3"
  },
  "language_info": {
   "codemirror_mode": {
    "name": "ipython",
    "version": 3
   },
   "file_extension": ".py",
   "mimetype": "text/x-python",
   "name": "python",
   "nbconvert_exporter": "python",
   "pygments_lexer": "ipython3",
   "version": "3.9.7"
  },
  "orig_nbformat": 4,
  "vscode": {
   "interpreter": {
    "hash": "c7bd9dd2adc0b1fd1227199ec15d368c1542a05de5b9769110a3b603f5c865e9"
   }
  }
 },
 "nbformat": 4,
 "nbformat_minor": 2
}
