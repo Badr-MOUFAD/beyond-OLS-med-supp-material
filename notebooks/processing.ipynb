{
 "cells": [
  {
   "cell_type": "code",
   "execution_count": null,
   "metadata": {},
   "outputs": [],
   "source": [
    "# link to dataset and description:\n",
    "# https://archive.ics.uci.edu/ml/datasets/Automobile"
   ]
  },
  {
   "cell_type": "code",
   "execution_count": null,
   "metadata": {},
   "outputs": [],
   "source": [
    "# point to root directory\n",
    "import os\n",
    "\n",
    "os.chdir(\"../\")\n",
    "os.getcwd()"
   ]
  },
  {
   "cell_type": "code",
   "execution_count": null,
   "metadata": {},
   "outputs": [],
   "source": [
    "# imports\n",
    "import pandas as pd"
   ]
  },
  {
   "cell_type": "code",
   "execution_count": null,
   "metadata": {},
   "outputs": [],
   "source": [
    "# constants\n",
    "DATASET_PATH = \"data/imports-85.data\"\n",
    "COL_NAMES =  [\n",
    "    \"symboling\", \"normalized_losses\",\n",
    "    \"make\", \"fuel_type\",\n",
    "    \"aspiration\", \"num_of_doors\",\n",
    "    \"body_style\", \"drive_wheels\",\n",
    "    \"engine_location\", \"wheel_base\",\n",
    "    \"length\",\"width\",\n",
    "    \"height\",\"curb_weight\",\n",
    "    \"engine_type\",\"num_of_cylinders\",\n",
    "    \"engine_size\",\"fuel_system\",\n",
    "    \"bore\",\"stroke\",\n",
    "    \"compression_ratio\",\"horsepower\",\n",
    "    \"peak_rpm\",\"city_mpg\",\n",
    "    \"highway_mpg\",\"price\",\n",
    "]\n",
    "\n",
    "X_COL_NAMES =  [\n",
    "    \"make\", \"fuel_type\",\n",
    "    \"aspiration\", \"num_of_doors\",\n",
    "    \"body_style\", \"drive_wheels\",\n",
    "    \"engine_location\", \"wheel_base\",\n",
    "    \"length\", \"width\",\n",
    "    \"height\", \"curb_weight\",\n",
    "    \"engine_type\", \"num_of_cylinders\",\n",
    "    \"engine_size\", \"fuel_system\",\n",
    "    \"bore\", \"stroke\",\n",
    "    \"compression_ratio\", \"horsepower\",\n",
    "    \"peak_rpm\", \"city_mpg\",\n",
    "    \"highway_mpg\",\n",
    "]\n",
    "TARGET_NAME = ['price']"
   ]
  },
  {
   "cell_type": "code",
   "execution_count": null,
   "metadata": {},
   "outputs": [],
   "source": [
    "# load and preprocess\n",
    "df = pd.read_csv(\n",
    "    DATASET_PATH, \n",
    "    header=None,\n",
    "    names=COL_NAMES\n",
    ")\n",
    "\n",
    "df = df.where(\n",
    "    cond=df != '?',\n",
    "    other=None,\n",
    ")\n",
    "\n",
    "df_X_y = df[X_COL_NAMES + TARGET_NAME]\n",
    "df_X_y.dropna(\n",
    "    inplace=True\n",
    ")"
   ]
  },
  {
   "cell_type": "code",
   "execution_count": null,
   "metadata": {},
   "outputs": [],
   "source": [
    "# save X, y datasets\n",
    "X = df_X_y[X_COL_NAMES]\n",
    "y = df_X_y[TARGET_NAME]\n",
    "\n",
    "X.to_csv('data/automobile-X.csv', index=False)\n",
    "y.to_csv('data/automobile-y.csv', index=False)"
   ]
  }
 ],
 "metadata": {
  "kernelspec": {
   "display_name": "Python 3.8.5 ('base')",
   "language": "python",
   "name": "python3"
  },
  "language_info": {
   "codemirror_mode": {
    "name": "ipython",
    "version": 3
   },
   "file_extension": ".py",
   "mimetype": "text/x-python",
   "name": "python",
   "nbconvert_exporter": "python",
   "pygments_lexer": "ipython3",
   "version": "3.8.5"
  },
  "orig_nbformat": 4,
  "vscode": {
   "interpreter": {
    "hash": "dc07d24e2f18896857f0b2a651fe84ba40ce7b297e58d8804a308c8039f752a6"
   }
  }
 },
 "nbformat": 4,
 "nbformat_minor": 2
}
